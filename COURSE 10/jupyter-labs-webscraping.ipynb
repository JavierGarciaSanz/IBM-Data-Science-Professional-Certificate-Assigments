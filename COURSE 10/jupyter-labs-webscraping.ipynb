{
 "cells": [
  {
   "cell_type": "markdown",
   "metadata": {},
   "source": [
    "<p style=\"text-align:center\">\n",
    "    <a href=\"https://skills.network\" target=\"_blank\">\n",
    "    <img src=\"https://cf-courses-data.s3.us.cloud-object-storage.appdomain.cloud/assets/logos/SN_web_lightmode.png\" width=\"200\" alt=\"Skills Network Logo\">\n",
    "    </a>\n",
    "</p>\n"
   ]
  },
  {
   "cell_type": "markdown",
   "metadata": {},
   "source": [
    "# **Space X  Falcon 9 First Stage Landing Prediction**\n"
   ]
  },
  {
   "cell_type": "markdown",
   "metadata": {},
   "source": [
    "## Web scraping Falcon 9 and Falcon Heavy Launches Records from Wikipedia\n"
   ]
  },
  {
   "cell_type": "markdown",
   "metadata": {},
   "source": [
    "Estimated time needed: **40** minutes\n"
   ]
  },
  {
   "cell_type": "markdown",
   "metadata": {},
   "source": [
    "In this lab, you will be performing web scraping to collect Falcon 9 historical launch records from a Wikipedia page titled `List of Falcon 9 and Falcon Heavy launches`\n",
    "\n",
    "https://en.wikipedia.org/wiki/List_of_Falcon_9_and_Falcon_Heavy_launches\n"
   ]
  },
  {
   "cell_type": "markdown",
   "metadata": {},
   "source": [
    "![](https://cf-courses-data.s3.us.cloud-object-storage.appdomain.cloud/IBM-DS0321EN-SkillsNetwork/labs/module_1_L2/images/Falcon9_rocket_family.svg)\n"
   ]
  },
  {
   "cell_type": "markdown",
   "metadata": {},
   "source": [
    "Falcon 9 first stage will land successfully\n"
   ]
  },
  {
   "cell_type": "markdown",
   "metadata": {},
   "source": [
    "![](https://cf-courses-data.s3.us.cloud-object-storage.appdomain.cloud/IBMDeveloperSkillsNetwork-DS0701EN-SkillsNetwork/api/Images/landing_1.gif)\n"
   ]
  },
  {
   "cell_type": "markdown",
   "metadata": {},
   "source": [
    "Several examples of an unsuccessful landing are shown here:\n"
   ]
  },
  {
   "cell_type": "markdown",
   "metadata": {},
   "source": [
    "![](https://cf-courses-data.s3.us.cloud-object-storage.appdomain.cloud/IBMDeveloperSkillsNetwork-DS0701EN-SkillsNetwork/api/Images/crash.gif)\n"
   ]
  },
  {
   "cell_type": "markdown",
   "metadata": {},
   "source": [
    "More specifically, the launch records are stored in a HTML table shown below:\n"
   ]
  },
  {
   "cell_type": "markdown",
   "metadata": {},
   "source": [
    "![](https://cf-courses-data.s3.us.cloud-object-storage.appdomain.cloud/IBM-DS0321EN-SkillsNetwork/labs/module_1_L2/images/falcon9-launches-wiki.png)\n"
   ]
  },
  {
   "cell_type": "markdown",
   "metadata": {},
   "source": [
    "  ## Objectives\n",
    "Web scrap Falcon 9 launch records with `BeautifulSoup`: \n",
    "- Extract a Falcon 9 launch records HTML table from Wikipedia\n",
    "- Parse the table and convert it into a Pandas data frame\n"
   ]
  },
  {
   "cell_type": "markdown",
   "metadata": {},
   "source": [
    "First let's import required packages for this lab\n"
   ]
  },
  {
   "cell_type": "code",
   "execution_count": 1,
   "metadata": {
    "tags": []
   },
   "outputs": [
    {
     "name": "stdout",
     "output_type": "stream",
     "text": [
      "Requirement already satisfied: beautifulsoup4 in /home/jupyterlab/conda/envs/python/lib/python3.7/site-packages (4.11.1)\n",
      "Requirement already satisfied: soupsieve>1.2 in /home/jupyterlab/conda/envs/python/lib/python3.7/site-packages (from beautifulsoup4) (2.3.2.post1)\n",
      "Requirement already satisfied: requests in /home/jupyterlab/conda/envs/python/lib/python3.7/site-packages (2.29.0)\n",
      "Requirement already satisfied: charset-normalizer<4,>=2 in /home/jupyterlab/conda/envs/python/lib/python3.7/site-packages (from requests) (3.1.0)\n",
      "Requirement already satisfied: idna<4,>=2.5 in /home/jupyterlab/conda/envs/python/lib/python3.7/site-packages (from requests) (3.4)\n",
      "Requirement already satisfied: urllib3<1.27,>=1.21.1 in /home/jupyterlab/conda/envs/python/lib/python3.7/site-packages (from requests) (1.26.15)\n",
      "Requirement already satisfied: certifi>=2017.4.17 in /home/jupyterlab/conda/envs/python/lib/python3.7/site-packages (from requests) (2023.5.7)\n"
     ]
    }
   ],
   "source": [
    "!pip3 install beautifulsoup4\n",
    "!pip3 install requests"
   ]
  },
  {
   "cell_type": "code",
   "execution_count": 2,
   "metadata": {
    "tags": []
   },
   "outputs": [],
   "source": [
    "import sys\n",
    "\n",
    "import requests\n",
    "from bs4 import BeautifulSoup\n",
    "import re\n",
    "import unicodedata\n",
    "import pandas as pd"
   ]
  },
  {
   "cell_type": "markdown",
   "metadata": {},
   "source": [
    "and we will provide some helper functions for you to process web scraped HTML table\n"
   ]
  },
  {
   "cell_type": "code",
   "execution_count": 3,
   "metadata": {
    "tags": []
   },
   "outputs": [],
   "source": [
    "def date_time(table_cells):\n",
    "    \"\"\"\n",
    "    This function returns the data and time from the HTML  table cell\n",
    "    Input: the  element of a table data cell extracts extra row\n",
    "    \"\"\"\n",
    "    return [data_time.strip() for data_time in list(table_cells.strings)][0:2]\n",
    "\n",
    "def booster_version(table_cells):\n",
    "    \"\"\"\n",
    "    This function returns the booster version from the HTML  table cell \n",
    "    Input: the  element of a table data cell extracts extra row\n",
    "    \"\"\"\n",
    "    out=''.join([booster_version for i,booster_version in enumerate( table_cells.strings) if i%2==0][0:-1])\n",
    "    return out\n",
    "\n",
    "def landing_status(table_cells):\n",
    "    \"\"\"\n",
    "    This function returns the landing status from the HTML table cell \n",
    "    Input: the  element of a table data cell extracts extra row\n",
    "    \"\"\"\n",
    "    out=[i for i in table_cells.strings][0]\n",
    "    return out\n",
    "\n",
    "\n",
    "def get_mass(table_cells):\n",
    "    mass=unicodedata.normalize(\"NFKD\", table_cells.text).strip()\n",
    "    if mass:\n",
    "        mass.find(\"kg\")\n",
    "        new_mass=mass[0:mass.find(\"kg\")+2]\n",
    "    else:\n",
    "        new_mass=0\n",
    "    return new_mass\n",
    "\n",
    "\n",
    "def extract_column_from_header(row):\n",
    "    \"\"\"\n",
    "    This function returns the landing status from the HTML table cell \n",
    "    Input: the  element of a table data cell extracts extra row\n",
    "    \"\"\"\n",
    "    if (row.br):\n",
    "        row.br.extract()\n",
    "    if row.a:\n",
    "        row.a.extract()\n",
    "    if row.sup:\n",
    "        row.sup.extract()\n",
    "        \n",
    "    colunm_name = ' '.join(row.contents)\n",
    "    \n",
    "    # Filter the digit and empty names\n",
    "    if not(colunm_name.strip().isdigit()):\n",
    "        colunm_name = colunm_name.strip()\n",
    "        return colunm_name    \n"
   ]
  },
  {
   "cell_type": "markdown",
   "metadata": {},
   "source": [
    "To keep the lab tasks consistent, you will be asked to scrape the data from a snapshot of the  `List of Falcon 9 and Falcon Heavy launches` Wikipage updated on\n",
    "`9th June 2021`\n"
   ]
  },
  {
   "cell_type": "code",
   "execution_count": 4,
   "metadata": {
    "tags": []
   },
   "outputs": [],
   "source": [
    "static_url = \"https://en.wikipedia.org/w/index.php?title=List_of_Falcon_9_and_Falcon_Heavy_launches&oldid=1027686922\"\n",
    "\n",
    "headers = {\n",
    "    \"User-Agent\": \"Mozilla/5.0 (Windows NT 10.0; Win64; x64) \"\n",
    "                  \"AppleWebKit/537.36 (KHTML, like Gecko) \"\n",
    "                  \"Chrome/91.0.4472.124 Safari/537.36\"\n",
    "}"
   ]
  },
  {
   "cell_type": "markdown",
   "metadata": {},
   "source": [
    "Next, request the HTML page from the above URL and get a `response` object\n"
   ]
  },
  {
   "cell_type": "markdown",
   "metadata": {},
   "source": [
    "### TASK 1: Request the Falcon9 Launch Wiki page from its URL\n"
   ]
  },
  {
   "cell_type": "markdown",
   "metadata": {},
   "source": [
    "First, let's perform an HTTP GET method to request the Falcon9 Launch HTML page, as an HTTP response.\n"
   ]
  },
  {
   "cell_type": "code",
   "execution_count": 5,
   "metadata": {
    "tags": []
   },
   "outputs": [
    {
     "data": {
      "text/plain": [
       "200"
      ]
     },
     "execution_count": 5,
     "metadata": {},
     "output_type": "execute_result"
    }
   ],
   "source": [
    "# use requests.get() method with the provided static_url and headers\n",
    "# assign the response to a object\n",
    "import requests\n",
    "\n",
    "static_url = \"https://en.wikipedia.org/wiki/List_of_Falcon_9_and_Falcon_Heavy_launches\"\n",
    "headers = {\"User-Agent\": \"Mozilla/5.0\"}\n",
    "\n",
    "response = requests.get(static_url, headers=headers)\n",
    "response.status_code\n"
   ]
  },
  {
   "cell_type": "markdown",
   "metadata": {},
   "source": [
    "Create a `BeautifulSoup` object from the HTML `response`\n"
   ]
  },
  {
   "cell_type": "code",
   "execution_count": 6,
   "metadata": {
    "tags": []
   },
   "outputs": [],
   "source": [
    "# Use BeautifulSoup() to create a BeautifulSoup object from a response text content\n",
    "from bs4 import BeautifulSoup\n",
    "soup = BeautifulSoup(response.text, \"html.parser\")"
   ]
  },
  {
   "cell_type": "markdown",
   "metadata": {},
   "source": [
    "Print the page title to verify if the `BeautifulSoup` object was created properly \n"
   ]
  },
  {
   "cell_type": "code",
   "execution_count": 7,
   "metadata": {
    "tags": []
   },
   "outputs": [
    {
     "data": {
      "text/plain": [
       "<title>List of Falcon 9 and Falcon Heavy launches - Wikipedia</title>"
      ]
     },
     "execution_count": 7,
     "metadata": {},
     "output_type": "execute_result"
    }
   ],
   "source": [
    "# Use soup.title attribute\n",
    "soup.title"
   ]
  },
  {
   "cell_type": "markdown",
   "metadata": {},
   "source": [
    "### TASK 2: Extract all column/variable names from the HTML table header\n"
   ]
  },
  {
   "cell_type": "markdown",
   "metadata": {},
   "source": [
    "Next, we want to collect all relevant column names from the HTML table header\n"
   ]
  },
  {
   "cell_type": "markdown",
   "metadata": {},
   "source": [
    "Let's try to find all tables on the wiki page first. If you need to refresh your memory about `BeautifulSoup`, please check the external reference link towards the end of this lab\n"
   ]
  },
  {
   "cell_type": "code",
   "execution_count": 8,
   "metadata": {
    "tags": []
   },
   "outputs": [
    {
     "data": {
      "text/plain": [
       "15"
      ]
     },
     "execution_count": 8,
     "metadata": {},
     "output_type": "execute_result"
    }
   ],
   "source": [
    "# Use the find_all function in the BeautifulSoup object, with element type `table`\n",
    "# Assign the result to a list called `html_tables`\n",
    "html_tables = soup.find_all(\"table\")\n",
    "len(html_tables)\n"
   ]
  },
  {
   "cell_type": "markdown",
   "metadata": {},
   "source": [
    "Starting from the third table is our target table contains the actual launch records.\n"
   ]
  },
  {
   "cell_type": "code",
   "execution_count": 9,
   "metadata": {
    "tags": []
   },
   "outputs": [
    {
     "name": "stdout",
     "output_type": "stream",
     "text": [
      "<table class=\"wikitable sticky-header\" id=\"F9-xxx\" style=\"width: 100%;\">\n",
      "<tbody><tr>\n",
      "<th scope=\"col\">Date and time (<a href=\"/wiki/Coordinated_Universal_Time\" title=\"Coordinated Universal Time\">UTC</a>)\n",
      "</th>\n",
      "<th scope=\"col\"><a href=\"/wiki/List_of_Falcon_9_first-stage_boosters\" title=\"List of Falcon 9 first-stage boosters\">Version,<br/>booster</a><sup class=\"reference\" id=\"cite_ref-booster_32-2\"><a href=\"#cite_note-booster-32\"><span class=\"cite-bracket\">[</span>j<span class=\"cite-bracket\">]</span></a></sup>\n",
      "</th>\n",
      "<th scope=\"col\">Launch site\n",
      "</th>\n",
      "<th scope=\"col\">Payload<sup class=\"reference\" id=\"cite_ref-Dragon_33-2\"><a href=\"#cite_note-Dragon-33\"><span class=\"cite-bracket\">[</span>k<span class=\"cite-bracket\">]</span></a></sup>\n",
      "</th>\n",
      "<th scope=\"col\">Orbit\n",
      "</th>\n",
      "<th scope=\"col\">Customer\n",
      "</th></tr>\n",
      "<tr>\n",
      "<td rowspan=\"2\">October 22, 2025<br/>14:00\n",
      "</td>\n",
      "<td><a href=\"/wiki/Falcon_9_Block_5\" title=\"Falcon 9 Block 5\">F9<span class=\"nowrap\"> </span>B5</a><br/><a href=\"/wiki/List_of_Falcon_9_first-stage_boosters#B1075\" title=\"List of Falcon 9 first-stage boosters\">B1075‑21</a>\n",
      "</td>\n",
      "<td><a href=\"/wiki/Vandenberg_Space_Force_Base\" title=\"Vandenberg Space Force Base\">Vandenberg</a>, <a href=\"/wiki/Vandenberg_Space_Launch_Complex_4\" title=\"Vandenberg Space Launch Complex 4\">SLC‑4E</a>\n",
      "</td>\n",
      "<td><a href=\"/wiki/Starlink\" title=\"Starlink\">Starlink</a>: <a href=\"/wiki/List_of_Starlink_and_Starshield_launches#G11-5\" title=\"List of Starlink and Starshield launches\">Group 11-5</a>\n",
      "</td>\n",
      "<td><a href=\"/wiki/Low_Earth_orbit\" title=\"Low Earth orbit\">LEO</a>\n",
      "</td>\n",
      "<td><a href=\"/wiki/SpaceX\" title=\"SpaceX\">SpaceX</a>\n",
      "</td></tr>\n",
      "<tr>\n",
      "<td colspan=\"5\">Launch of 28 Starlink v2<span class=\"nowrap\"> </span>mini optimized satellites to a 295 km (183 mi) orbit at an inclination of 53° to expand internet constellation.\n",
      "</td></tr>\n",
      "<tr>\n",
      "<td rowspan=\"2\">October 23, 2025<br/>01:30<sup class=\"reference\" id=\"cite_ref-atalayar-20240422_449-0\"><a href=\"#cite_note-atalayar-20240422-449\"><span class=\"cite-bracket\">[</span>437<span class=\"cite-bracket\">]</span></a></sup>\n",
      "</td>\n",
      "<td><a href=\"/wiki/Falcon_9_Block_5\" title=\"Falcon 9 Block 5\">F9<span class=\"nowrap\"> </span>B5</a><br/><a href=\"/wiki/List_of_Falcon_9_first-stage_boosters#B1076\" title=\"List of Falcon 9 first-stage boosters\">B1076‑22</a>\n",
      "</td>\n",
      "<td><a href=\"/wiki/Cape_Canaveral_Space_Force_Station\" title=\"Cape Canaveral Space Force Station\">Cape Canaveral</a>, <a href=\"/wiki/Cape_Canaveral_Space_Launch_Complex_40\" title=\"Cape Canaveral Space Launch Complex 40\">SLC‑40</a>\n",
      "</td>\n",
      "<td><a href=\"/wiki/Spainsat_NG\" title=\"Spainsat NG\">Spainsat NG</a> II\n",
      "</td>\n",
      "<td><a href=\"/wiki/Geostationary_transfer_orbit\" title=\"Geostationary transfer orbit\">GTO</a>\n",
      "</td>\n",
      "<td><a href=\"/wiki/Hisdesat\" title=\"Hisdesat\">Hisdesat</a>\n",
      "</td></tr>\n",
      "<tr>\n",
      "<td colspan=\"5\">Communications satellite built on the <a href=\"/wiki/Eurostar_(satellite_bus)\" title=\"Eurostar (satellite bus)\">Eurostar-Neo</a> platform, to be utilized by the Spanish government and its allies.<sup class=\"reference\" id=\"cite_ref-Spainsat-NG_288-1\"><a href=\"#cite_note-Spainsat-NG-288\"><span class=\"cite-bracket\">[</span>276<span class=\"cite-bracket\">]</span></a></sup> Second of two launches for the Spainsat-NG program. First stage booster will be expended due to the performance needed to lift the 6,100 kg (13,400 lb) satellite to GTO.<sup class=\"reference\" id=\"cite_ref-atalayar-20240422_449-1\"><a href=\"#cite_note-atalayar-20240422-449\"><span class=\"cite-bracket\">[</span>437<span class=\"cite-bracket\">]</span></a></sup>\n",
      "</td></tr>\n",
      "<tr>\n",
      "<td rowspan=\"2\">October 25, 2025<br/>14:00\n",
      "</td>\n",
      "<td><a href=\"/wiki/Falcon_9_Block_5\" title=\"Falcon 9 Block 5\">F9<span class=\"nowrap\"> </span>B5</a><br/><a href=\"/wiki/List_of_Falcon_9_first-stage_boosters#B1081\" title=\"List of Falcon 9 first-stage boosters\">B1081‑19</a>\n",
      "</td>\n",
      "<td><a href=\"/wiki/Vandenberg_Space_Force_Base\" title=\"Vandenberg Space Force Base\">Vandenberg</a>, <a href=\"/wiki/Vandenberg_Space_Launch_Complex_4\" title=\"Vandenberg Space Launch Complex 4\">SLC‑4E</a>\n",
      "</td>\n",
      "<td><a href=\"/wiki/Starlink\" title=\"Starlink\">Starlink</a>: <a href=\"/wiki/List_of_Starlink_and_Starshield_launches#G11-12\" title=\"List of Starlink and Starshield launches\">Group 11-12</a>\n",
      "</td>\n",
      "<td><a href=\"/wiki/Low_Earth_orbit\" title=\"Low Earth orbit\">LEO</a>\n",
      "</td>\n",
      "<td><a href=\"/wiki/SpaceX\" title=\"SpaceX\">SpaceX</a>\n",
      "</td></tr>\n",
      "<tr>\n",
      "<td colspan=\"5\">Launch of 28 Starlink v2<span class=\"nowrap\"> </span>mini optimized satellites to a 295 km (183 mi) orbit at an inclination of 53° to expand internet constellation.\n",
      "</td></tr>\n",
      "<tr>\n",
      "<td rowspan=\"2\">October 25, 2025<br/>14:27\n",
      "</td>\n",
      "<td><a href=\"/wiki/Falcon_9_Block_5\" title=\"Falcon 9 Block 5\">F9<span class=\"nowrap\"> </span>B5</a><br/><a href=\"/wiki/List_of_Falcon_9_first-stage_boosters#B1077\" title=\"List of Falcon 9 first-stage boosters\">B1077‑24</a>\n",
      "</td>\n",
      "<td><a href=\"/wiki/Cape_Canaveral_Space_Force_Station\" title=\"Cape Canaveral Space Force Station\">Cape Canaveral</a>, <a href=\"/wiki/Cape_Canaveral_Space_Launch_Complex_40\" title=\"Cape Canaveral Space Launch Complex 40\">SLC‑40</a>\n",
      "</td>\n",
      "<td><a href=\"/wiki/Starlink\" title=\"Starlink\">Starlink</a>: <a href=\"/wiki/List_of_Starlink_and_Starshield_launches#G10-21\" title=\"List of Starlink and Starshield launches\">Group 10-21</a>\n",
      "</td>\n",
      "<td><a href=\"/wiki/Low_Earth_orbit\" title=\"Low Earth orbit\">LEO</a>\n",
      "</td>\n",
      "<td><a href=\"/wiki/SpaceX\" title=\"SpaceX\">SpaceX</a>\n",
      "</td></tr>\n",
      "<tr>\n",
      "<td colspan=\"5\">Launch of 29 Starlink v2<span class=\"nowrap\"> </span>mini optimized satellites to a 279 km (173 mi) orbit at an inclination of 53° to expand internet constellation.\n",
      "</td></tr>\n",
      "<tr>\n",
      "<td rowspan=\"2\">October 27, 2025<br/>21:12\n",
      "</td>\n",
      "<td><a href=\"/wiki/Falcon_9_Block_5\" title=\"Falcon 9 Block 5\">F9<span class=\"nowrap\"> </span>B5</a><br/><a href=\"/wiki/List_of_Falcon_9_first-stage_boosters#B1082\" title=\"List of Falcon 9 first-stage boosters\">B1082‑17</a>\n",
      "</td>\n",
      "<td><a href=\"/wiki/Vandenberg_Space_Force_Base\" title=\"Vandenberg Space Force Base\">Vandenberg</a>, <a href=\"/wiki/Vandenberg_Space_Launch_Complex_4\" title=\"Vandenberg Space Launch Complex 4\">SLC‑4E</a>\n",
      "</td>\n",
      "<td><a href=\"/wiki/Starlink\" title=\"Starlink\">Starlink</a>: <a href=\"/wiki/List_of_Starlink_and_Starshield_launches#G11-21\" title=\"List of Starlink and Starshield launches\">Group 11-21</a>\n",
      "</td>\n",
      "<td><a href=\"/wiki/Low_Earth_orbit\" title=\"Low Earth orbit\">LEO</a>\n",
      "</td>\n",
      "<td><a href=\"/wiki/SpaceX\" title=\"SpaceX\">SpaceX</a>\n",
      "</td></tr>\n",
      "<tr>\n",
      "<td colspan=\"5\">Launch of 28 Starlink v2<span class=\"nowrap\"> </span>mini optimized satellites to a 295 km (183 mi) orbit at an inclination of 53° to expand internet constellation.\n",
      "</td></tr>\n",
      "<tr>\n",
      "<td rowspan=\"2\">October 28, 2025<br/>13:14\n",
      "</td>\n",
      "<td><a href=\"/wiki/Falcon_9_Block_5\" title=\"Falcon 9 Block 5\">F9<span class=\"nowrap\"> </span>B5</a><br/><a href=\"/wiki/List_of_Falcon_9_first-stage_boosters#B1083\" title=\"List of Falcon 9 first-stage boosters\">B1083‑15</a>\n",
      "</td>\n",
      "<td><a href=\"/wiki/Cape_Canaveral_Space_Force_Station\" title=\"Cape Canaveral Space Force Station\">Cape Canaveral</a>, <a href=\"/wiki/Cape_Canaveral_Space_Launch_Complex_40\" title=\"Cape Canaveral Space Launch Complex 40\">SLC‑40</a>\n",
      "</td>\n",
      "<td><a href=\"/wiki/Starlink\" title=\"Starlink\">Starlink</a>: <a href=\"/wiki/List_of_Starlink_and_Starshield_launches#G10-37\" title=\"List of Starlink and Starshield launches\">Group 10-37</a>\n",
      "</td>\n",
      "<td><a href=\"/wiki/Low_Earth_orbit\" title=\"Low Earth orbit\">LEO</a>\n",
      "</td>\n",
      "<td><a href=\"/wiki/SpaceX\" title=\"SpaceX\">SpaceX</a>\n",
      "</td></tr>\n",
      "<tr>\n",
      "<td colspan=\"5\">Launch of 29 Starlink v2<span class=\"nowrap\"> </span>mini optimized satellites to a 279 km (173 mi) orbit at an inclination of 53° to expand internet constellation.\n",
      "</td></tr>\n",
      "<tr>\n",
      "<td rowspan=\"2\">October 2025\n",
      "</td>\n",
      "<td><a href=\"/wiki/Falcon_9_Block_5\" title=\"Falcon 9 Block 5\">F9<span class=\"nowrap\"> </span>B5</a>\n",
      "</td>\n",
      "<td><a href=\"/wiki/Vandenberg_Space_Force_Base\" title=\"Vandenberg Space Force Base\">Vandenberg</a>, <a href=\"/wiki/Vandenberg_Space_Launch_Complex_4\" title=\"Vandenberg Space Launch Complex 4\">SLC‑4E</a>\n",
      "</td>\n",
      "<td><a href=\"/wiki/List_of_spaceflight_launches_in_October%E2%80%93December_2025#SpXBandwagon4\" title=\"List of spaceflight launches in October–December 2025\">Bandwagon-4</a> (smallsat rideshare)<sup class=\"reference\" id=\"cite_ref-spacex-smallsat_79-6\"><a href=\"#cite_note-spacex-smallsat-79\"><span class=\"cite-bracket\">[</span>67<span class=\"cite-bracket\">]</span></a></sup><sup class=\"reference\" id=\"cite_ref-BandW_99-2\"><a href=\"#cite_note-BandW-99\"><span class=\"cite-bracket\">[</span>87<span class=\"cite-bracket\">]</span></a></sup>\n",
      "</td>\n",
      "<td><a href=\"/wiki/Low_Earth_orbit\" title=\"Low Earth orbit\">LEO</a>\n",
      "</td>\n",
      "<td>Various\n",
      "</td></tr>\n",
      "<tr>\n",
      "<td colspan=\"5\">Dedicated SmallSat Rideshare mission to 45 degree inclination 550–600 km altitude.\n",
      "</td></tr>\n",
      "<tr>\n",
      "<td rowspan=\"2\">October 2025\n",
      "</td>\n",
      "<td><a href=\"/wiki/Falcon_9_Block_5\" title=\"Falcon 9 Block 5\">F9<span class=\"nowrap\"> </span>B5</a>\n",
      "</td>\n",
      "<td>TBD\n",
      "</td>\n",
      "<td><a href=\"/wiki/List_of_spaceflight_launches_in_October%E2%80%93December_2025#SpXTransporter15\" title=\"List of spaceflight launches in October–December 2025\">Transporter-15</a> (smallsat rideshare)<sup class=\"reference\" id=\"cite_ref-spacex-smallsat_79-7\"><a href=\"#cite_note-spacex-smallsat-79\"><span class=\"cite-bracket\">[</span>67<span class=\"cite-bracket\">]</span></a></sup>\n",
      "</td>\n",
      "<td><a href=\"/wiki/Sun-synchronous_orbit\" title=\"Sun-synchronous orbit\">SSO</a>\n",
      "</td>\n",
      "<td>Various\n",
      "</td></tr>\n",
      "<tr>\n",
      "<td colspan=\"5\">Dedicated SmallSat rideshare mission to sun-synchronous orbit.\n",
      "</td></tr>\n",
      "<tr>\n",
      "<td rowspan=\"2\">October 2025\n",
      "</td>\n",
      "<td><a href=\"/wiki/Falcon_9_Block_5\" title=\"Falcon 9 Block 5\">F9<span class=\"nowrap\"> </span>B5</a>\n",
      "</td>\n",
      "<td><a href=\"/wiki/Vandenberg_Space_Force_Base\" title=\"Vandenberg Space Force Base\">Vandenberg</a>, <a href=\"/wiki/Vandenberg_Space_Launch_Complex_4\" title=\"Vandenberg Space Launch Complex 4\">SLC‑4E</a>\n",
      "</td>\n",
      "<td><a class=\"new\" href=\"/w/index.php?title=TSIS-2&amp;action=edit&amp;redlink=1\" title=\"TSIS-2 (page does not exist)\">TSIS-2</a> &amp; others\n",
      "</td>\n",
      "<td><a href=\"/wiki/Sun-synchronous_orbit\" title=\"Sun-synchronous orbit\">SSO</a>\n",
      "</td>\n",
      "<td><a href=\"/wiki/NASA\" title=\"NASA\">NASA</a>\n",
      "</td></tr>\n",
      "<tr>\n",
      "<td colspan=\"5\">NASA's Total and Spectral Solar Irradiance Sensor – 2. Rideshares include: SunCET, CubIXSS, SPARCS, and others.\n",
      "</td></tr>\n",
      "<tr>\n",
      "<td rowspan=\"2\">November 2025\n",
      "</td>\n",
      "<td><a href=\"/wiki/Falcon_9_Block_5\" title=\"Falcon 9 Block 5\">F9<span class=\"nowrap\"> </span>B5</a>\n",
      "</td>\n",
      "<td><a href=\"/wiki/Vandenberg_Space_Force_Base\" title=\"Vandenberg Space Force Base\">Vandenberg</a>, <a href=\"/wiki/Vandenberg_Space_Launch_Complex_4\" title=\"Vandenberg Space Launch Complex 4\">SLC‑4E</a>\n",
      "</td>\n",
      "<td><a href=\"/wiki/Sentinel-6B\" title=\"Sentinel-6B\">Sentinel-6B</a><sup class=\"reference\" id=\"cite_ref-450\"><a href=\"#cite_note-450\"><span class=\"cite-bracket\">[</span>438<span class=\"cite-bracket\">]</span></a></sup>\n",
      "</td>\n",
      "<td><a class=\"mw-redirect\" href=\"/wiki/Low_Earth_Orbit\" title=\"Low Earth Orbit\">LEO</a>\n",
      "</td>\n",
      "<td><a href=\"/wiki/NASA\" title=\"NASA\">NASA</a>/<a href=\"/wiki/National_Oceanic_and_Atmospheric_Administration\" title=\"National Oceanic and Atmospheric Administration\">NOAA</a>/<a class=\"mw-redirect\" href=\"/wiki/European_Organisation_for_the_Exploitation_of_Meteorological_Satellites\" title=\"European Organisation for the Exploitation of Meteorological Satellites\">EUMETSAT</a>/<a href=\"/wiki/European_Space_Agency\" title=\"European Space Agency\">ESA</a>\n",
      "</td></tr>\n",
      "<tr>\n",
      "<td colspan=\"5\">Identical to <a href=\"/wiki/Sentinel-6_Michael_Freilich\" title=\"Sentinel-6 Michael Freilich\">Sentinel-6A</a>.<sup class=\"reference\" id=\"cite_ref-451\"><a href=\"#cite_note-451\"><span class=\"cite-bracket\">[</span>439<span class=\"cite-bracket\">]</span></a></sup>\n",
      "</td></tr>\n",
      "<tr>\n",
      "<td rowspan=\"4\">December 2025<sup class=\"reference\" id=\"cite_ref-452\"><a href=\"#cite_note-452\"><span class=\"cite-bracket\">[</span>440<span class=\"cite-bracket\">]</span></a></sup>\n",
      "</td>\n",
      "<td><a href=\"/wiki/Falcon_Heavy\" title=\"Falcon Heavy\">Falcon Heavy</a> B5<br/><a href=\"/wiki/List_of_Falcon_9_first-stage_boosters#B1091\" title=\"List of Falcon 9 first-stage boosters\">B1091‑x</a><span class=\"nowrap\"> </span>(core)\n",
      "</td>\n",
      "<td rowspan=\"3\"><a href=\"/wiki/Kennedy_Space_Center\" title=\"Kennedy Space Center\">Kennedy</a>, <a href=\"/wiki/Kennedy_Space_Center_Launch_Complex_39A\" title=\"Kennedy Space Center Launch Complex 39A\">LC‑39A</a>\n",
      "</td>\n",
      "<td rowspan=\"3\"><a class=\"mw-redirect\" href=\"/wiki/Griffin_Mission_1\" title=\"Griffin Mission 1\">Griffin Mission 1</a><sup class=\"reference\" id=\"cite_ref-453\"><a href=\"#cite_note-453\"><span class=\"cite-bracket\">[</span>441<span class=\"cite-bracket\">]</span></a></sup>\n",
      "</td>\n",
      "<td rowspan=\"3\"><a href=\"/wiki/Trans-lunar_injection\" title=\"Trans-lunar injection\">TLI</a>\n",
      "</td>\n",
      "<td rowspan=\"3\"><a class=\"mw-redirect\" href=\"/wiki/Astrobotic\" title=\"Astrobotic\">Astrobotic</a><br/>NASA (<a href=\"/wiki/Artemis_program\" title=\"Artemis program\">Artemis</a>)\n",
      "</td></tr>\n",
      "<tr>\n",
      "<td><a href=\"/wiki/List_of_Falcon_9_first-stage_boosters#B1072\" title=\"List of Falcon 9 first-stage boosters\">B1072‑2</a><span class=\"nowrap\"> </span>(side)\n",
      "</td></tr>\n",
      "<tr>\n",
      "<td><a href=\"/wiki/List_of_Falcon_9_first-stage_boosters#B10××\" title=\"List of Falcon 9 first-stage boosters\">B10??</a><span class=\"nowrap\"> </span>(side)\n",
      "</td></tr>\n",
      "<tr>\n",
      "<td colspan=\"5\">Astrobotic's <a class=\"mw-redirect\" href=\"/wiki/Griffin_(spacecraft)\" title=\"Griffin (spacecraft)\">Griffin lunar lander</a> was originally expected to deliver NASA's <i><a href=\"/wiki/VIPER_(rover)\" title=\"VIPER (rover)\">VIPER</a></i> rover to the <a href=\"/wiki/Lunar_south_pole\" title=\"Lunar south pole\">lunar south pole</a> prior to its cancellation. Booster recovery method is unconfirmed, but could possibly feature the first Falcon Heavy center core recovery attempt since <a class=\"mw-redirect\" href=\"/wiki/STP-2\" title=\"STP-2\">STP-2</a>.<sup class=\"reference\" id=\"cite_ref-454\"><a href=\"#cite_note-454\"><span class=\"cite-bracket\">[</span>442<span class=\"cite-bracket\">]</span></a></sup> Amidst cost growth and delays to readiness of the rover and the Griffin lander, the VIPER program was ended in July 2024, with the rover planned to be disassembled and its instruments and components reused for other lunar missions.<sup class=\"reference\" id=\"cite_ref-nasa-20240717_455-0\"><a href=\"#cite_note-nasa-20240717-455\"><span class=\"cite-bracket\">[</span>443<span class=\"cite-bracket\">]</span></a></sup><sup class=\"reference\" id=\"cite_ref-456\"><a href=\"#cite_note-456\"><span class=\"cite-bracket\">[</span>444<span class=\"cite-bracket\">]</span></a></sup><sup class=\"reference\" id=\"cite_ref-Boyle_2024_457-0\"><a href=\"#cite_note-Boyle_2024-457\"><span class=\"cite-bracket\">[</span>445<span class=\"cite-bracket\">]</span></a></sup> The agency still plans to support the Griffin lander to arrive on the moon in fall of 2025, though with a mass simulator in place of the VIPER rover.<sup class=\"reference\" id=\"cite_ref-458\"><a href=\"#cite_note-458\"><span class=\"cite-bracket\">[</span>446<span class=\"cite-bracket\">]</span></a></sup> NASA expects the primary objectives of VIPER to be fulfilled by an array of other missions planned for the next several years.<sup class=\"reference\" id=\"cite_ref-Boyle_2024_457-1\"><a href=\"#cite_note-Boyle_2024-457\"><span class=\"cite-bracket\">[</span>445<span class=\"cite-bracket\">]</span></a></sup>\n",
      "</td></tr>\n",
      "<tr>\n",
      "<td rowspan=\"2\">Q4 2025\n",
      "</td>\n",
      "<td><a href=\"/wiki/Falcon_9_Block_5\" title=\"Falcon 9 Block 5\">F9<span class=\"nowrap\"> </span>B5</a>\n",
      "</td>\n",
      "<td>TBA (FL)\n",
      "</td>\n",
      "<td><a class=\"new\" href=\"/w/index.php?title=KOMPSAT-7A&amp;action=edit&amp;redlink=1\" title=\"KOMPSAT-7A (page does not exist)\">KOMPSAT-7A</a>\n",
      "</td>\n",
      "<td><a href=\"/wiki/Sun-synchronous_orbit\" title=\"Sun-synchronous orbit\">SSO</a>\n",
      "</td>\n",
      "<td><a href=\"/wiki/Korea_Aerospace_Research_Institute\" title=\"Korea Aerospace Research Institute\">Korea Aerospace Research Institute</a>\n",
      "</td></tr>\n",
      "<tr>\n",
      "<td colspan=\"5\">A lightweight Earth observation satellite.\n",
      "</td></tr>\n",
      "<tr>\n",
      "<td rowspan=\"2\">2025\n",
      "</td>\n",
      "<td><a href=\"/wiki/Falcon_9_Block_5\" title=\"Falcon 9 Block 5\">F9<span class=\"nowrap\"> </span>B5</a>\n",
      "</td>\n",
      "<td><a href=\"/wiki/Vandenberg_Space_Force_Base\" title=\"Vandenberg Space Force Base\">Vandenberg</a>, <a href=\"/wiki/Vandenberg_Space_Launch_Complex_4\" title=\"Vandenberg Space Launch Complex 4\">SLC‑4E</a>\n",
      "</td>\n",
      "<td><a href=\"/wiki/Space_Development_Agency#Launches\" title=\"Space Development Agency\">SDA Tranche 1 Transport Layer A</a>\n",
      "</td>\n",
      "<td><a href=\"/wiki/Polar_orbit\" title=\"Polar orbit\">Polar</a> <a href=\"/wiki/Low_Earth_orbit\" title=\"Low Earth orbit\">LEO</a>\n",
      "</td>\n",
      "<td><a href=\"/wiki/Space_Development_Agency\" title=\"Space Development Agency\">SDA</a>\n",
      "</td></tr>\n",
      "<tr>\n",
      "<td colspan=\"5\">Launch part of Phase 2 US Space Force contract awarded in 2022.<sup class=\"reference\" id=\"cite_ref-DoD28222_420-2\"><a href=\"#cite_note-DoD28222-420\"><span class=\"cite-bracket\">[</span>408<span class=\"cite-bracket\">]</span></a></sup><sup class=\"reference\" id=\"cite_ref-SSCA12_441-1\"><a href=\"#cite_note-SSCA12-441\"><span class=\"cite-bracket\">[</span>429<span class=\"cite-bracket\">]</span></a></sup>\n",
      "</td></tr>\n",
      "<tr>\n",
      "<td rowspan=\"2\">2025\n",
      "</td>\n",
      "<td><a href=\"/wiki/Falcon_9_Block_5\" title=\"Falcon 9 Block 5\">F9<span class=\"nowrap\"> </span>B5</a>\n",
      "</td>\n",
      "<td><a href=\"/wiki/Vandenberg_Space_Force_Base\" title=\"Vandenberg Space Force Base\">Vandenberg</a>, <a href=\"/wiki/Vandenberg_Space_Launch_Complex_4\" title=\"Vandenberg Space Launch Complex 4\">SLC‑4E</a>\n",
      "</td>\n",
      "<td><a href=\"/wiki/Space_Development_Agency#Launches\" title=\"Space Development Agency\">SDA Tranche 1 Transport Layer D</a>\n",
      "</td>\n",
      "<td><a href=\"/wiki/Polar_orbit\" title=\"Polar orbit\">Polar</a> <a href=\"/wiki/Low_Earth_orbit\" title=\"Low Earth orbit\">LEO</a>\n",
      "</td>\n",
      "<td><a href=\"/wiki/Space_Development_Agency\" title=\"Space Development Agency\">SDA</a>\n",
      "</td></tr>\n",
      "<tr>\n",
      "<td colspan=\"5\">Launch part of Phase 2 US Space Force contract awarded in 2022.<sup class=\"reference\" id=\"cite_ref-DoD28222_420-3\"><a href=\"#cite_note-DoD28222-420\"><span class=\"cite-bracket\">[</span>408<span class=\"cite-bracket\">]</span></a></sup><sup class=\"reference\" id=\"cite_ref-SSCA12_441-2\"><a href=\"#cite_note-SSCA12-441\"><span class=\"cite-bracket\">[</span>429<span class=\"cite-bracket\">]</span></a></sup>\n",
      "</td></tr>\n",
      "<tr>\n",
      "<td rowspan=\"2\">2025\n",
      "</td>\n",
      "<td><a href=\"/wiki/Falcon_9_Block_5\" title=\"Falcon 9 Block 5\">F9<span class=\"nowrap\"> </span>B5</a>\n",
      "</td>\n",
      "<td><a href=\"/wiki/Vandenberg_Space_Force_Base\" title=\"Vandenberg Space Force Base\">Vandenberg</a>, <a href=\"/wiki/Vandenberg_Space_Launch_Complex_4\" title=\"Vandenberg Space Launch Complex 4\">SLC‑4E</a>\n",
      "</td>\n",
      "<td><a href=\"/wiki/Space_Development_Agency#Launches\" title=\"Space Development Agency\">SDA Tranche 1 Transport Layer E</a>\n",
      "</td>\n",
      "<td><a href=\"/wiki/Polar_orbit\" title=\"Polar orbit\">Polar</a> <a href=\"/wiki/Low_Earth_orbit\" title=\"Low Earth orbit\">LEO</a>\n",
      "</td>\n",
      "<td><a href=\"/wiki/Space_Development_Agency\" title=\"Space Development Agency\">SDA</a>\n",
      "</td></tr>\n",
      "<tr>\n",
      "<td colspan=\"5\">Launch part of Phase 2 US Space Force contract awarded in 2022.<sup class=\"reference\" id=\"cite_ref-DoD28222_420-4\"><a href=\"#cite_note-DoD28222-420\"><span class=\"cite-bracket\">[</span>408<span class=\"cite-bracket\">]</span></a></sup><sup class=\"reference\" id=\"cite_ref-SSCA12_441-3\"><a href=\"#cite_note-SSCA12-441\"><span class=\"cite-bracket\">[</span>429<span class=\"cite-bracket\">]</span></a></sup>\n",
      "</td></tr>\n",
      "<tr>\n",
      "<td rowspan=\"2\">2025\n",
      "</td>\n",
      "<td><a href=\"/wiki/Falcon_9_Block_5\" title=\"Falcon 9 Block 5\">F9<span class=\"nowrap\"> </span>B5</a>\n",
      "</td>\n",
      "<td><a href=\"/wiki/Vandenberg_Space_Force_Base\" title=\"Vandenberg Space Force Base\">Vandenberg</a>, <a href=\"/wiki/Vandenberg_Space_Launch_Complex_4\" title=\"Vandenberg Space Launch Complex 4\">SLC‑4E</a>\n",
      "</td>\n",
      "<td><a href=\"/wiki/Space_Development_Agency#Launches\" title=\"Space Development Agency\">SDA Tranche 1 Transport Layer F</a>\n",
      "</td>\n",
      "<td><a href=\"/wiki/Polar_orbit\" title=\"Polar orbit\">Polar</a> <a href=\"/wiki/Low_Earth_orbit\" title=\"Low Earth orbit\">LEO</a>\n",
      "</td>\n",
      "<td><a href=\"/wiki/Space_Development_Agency\" title=\"Space Development Agency\">SDA</a>\n",
      "</td></tr>\n",
      "<tr>\n",
      "<td colspan=\"5\">Launch part of Phase 2 US Space Force contract awarded in 2022.<sup class=\"reference\" id=\"cite_ref-DoD28222_420-5\"><a href=\"#cite_note-DoD28222-420\"><span class=\"cite-bracket\">[</span>408<span class=\"cite-bracket\">]</span></a></sup><sup class=\"reference\" id=\"cite_ref-SSCA12_441-4\"><a href=\"#cite_note-SSCA12-441\"><span class=\"cite-bracket\">[</span>429<span class=\"cite-bracket\">]</span></a></sup>\n",
      "</td></tr>\n",
      "<tr>\n",
      "<td rowspan=\"2\">2025\n",
      "</td>\n",
      "<td><a href=\"/wiki/Falcon_9_Block_5\" title=\"Falcon 9 Block 5\">F9<span class=\"nowrap\"> </span>B5</a>\n",
      "</td>\n",
      "<td>TBA (FL)\n",
      "</td>\n",
      "<td><a href=\"/wiki/Globalstar\" title=\"Globalstar\">Globalstar</a>-3 M104–120 (17 satellites)<sup class=\"reference\" id=\"cite_ref-459\"><a href=\"#cite_note-459\"><span class=\"cite-bracket\">[</span>447<span class=\"cite-bracket\">]</span></a></sup>\n",
      "</td>\n",
      "<td><a href=\"/wiki/Low_Earth_orbit\" title=\"Low Earth orbit\">LEO</a>\n",
      "</td>\n",
      "<td><a href=\"/wiki/Globalstar\" title=\"Globalstar\">Globalstar</a>\n",
      "</td></tr>\n",
      "<tr>\n",
      "<td colspan=\"5\">Globalstar's third-generation satellite constellation, launching to a 52 degree inclination orbit at an altitude of 1,410 km.<sup class=\"reference\" id=\"cite_ref-460\"><a href=\"#cite_note-460\"><span class=\"cite-bracket\">[</span>448<span class=\"cite-bracket\">]</span></a></sup>\n",
      "</td></tr>\n",
      "<tr>\n",
      "<td rowspan=\"2\">2025\n",
      "</td>\n",
      "<td><a href=\"/wiki/Falcon_9_Block_5\" title=\"Falcon 9 Block 5\">F9<span class=\"nowrap\"> </span>B5</a>\n",
      "</td>\n",
      "<td>TBA (FL)\n",
      "</td>\n",
      "<td>USSF-31<sup class=\"reference\" id=\"cite_ref-SSCA12_441-5\"><a href=\"#cite_note-SSCA12-441\"><span class=\"cite-bracket\">[</span>429<span class=\"cite-bracket\">]</span></a></sup>\n",
      "</td>\n",
      "<td class=\"skin-invert no table-no2\" data-sort-value=\"\" style=\"background: #DDF; color:black; vertical-align: middle; text-align: center;\"><abbr title=\"To be announced\">TBA</abbr>\n",
      "</td>\n",
      "<td><a href=\"/wiki/United_States_Space_Force\" title=\"United States Space Force\">USSF</a>\n",
      "</td></tr>\n",
      "<tr>\n",
      "<td colspan=\"5\">Classified mission, part of Phase 2 US Space Force contract awarded in 2022.\n",
      "</td></tr>\n",
      "<tr>\n",
      "<td rowspan=\"2\">2025\n",
      "</td>\n",
      "<td><a href=\"/wiki/Falcon_9_Block_5\" title=\"Falcon 9 Block 5\">F9<span class=\"nowrap\"> </span>B5</a>\n",
      "</td>\n",
      "<td>TBA (FL)\n",
      "</td>\n",
      "<td><a href=\"/wiki/List_of_NRO_launches\" title=\"List of NRO launches\">NROL-77</a><sup class=\"reference\" id=\"cite_ref-cnbc11123_248-1\"><a href=\"#cite_note-cnbc11123-248\"><span class=\"cite-bracket\">[</span>236<span class=\"cite-bracket\">]</span></a></sup><sup class=\"reference\" id=\"cite_ref-tst11123_249-1\"><a href=\"#cite_note-tst11123-249\"><span class=\"cite-bracket\">[</span>237<span class=\"cite-bracket\">]</span></a></sup>\n",
      "</td>\n",
      "<td>Classified\n",
      "</td>\n",
      "<td><a href=\"/wiki/National_Reconnaissance_Office\" title=\"National Reconnaissance Office\">NRO</a>\n",
      "</td></tr>\n",
      "<tr>\n",
      "<td colspan=\"5\">Launch is part of Phase 2 US Air Force contract awarded in 2022.\n",
      "</td></tr>\n",
      "<tr>\n",
      "<td rowspan=\"2\">2025\n",
      "</td>\n",
      "<td><a href=\"/wiki/Falcon_9_Block_5\" title=\"Falcon 9 Block 5\">F9<span class=\"nowrap\"> </span>B5</a>\n",
      "</td>\n",
      "<td>TBA (FL)\n",
      "</td>\n",
      "<td><a href=\"/wiki/Astranis\" title=\"Astranis\">Astranis</a> Block 3 Mission (5 satellites)\n",
      "</td>\n",
      "<td><a href=\"/wiki/Geostationary_transfer_orbit\" title=\"Geostationary transfer orbit\">GTO</a>\n",
      "</td>\n",
      "<td><a href=\"/wiki/Astranis\" title=\"Astranis\">Astranis</a>\n",
      "</td></tr>\n",
      "<tr>\n",
      "<td colspan=\"5\">5 MicroGEO satellites.\n",
      "</td></tr>\n",
      "<tr>\n",
      "<td rowspan=\"2\">~2025<sup class=\"reference\" id=\"cite_ref-461\"><a href=\"#cite_note-461\"><span class=\"cite-bracket\">[</span>449<span class=\"cite-bracket\">]</span></a></sup><sup class=\"reference\" id=\"cite_ref-462\"><a href=\"#cite_note-462\"><span class=\"cite-bracket\">[</span>450<span class=\"cite-bracket\">]</span></a></sup>\n",
      "</td>\n",
      "<td><a href=\"/wiki/Falcon_9_Block_5\" title=\"Falcon 9 Block 5\">F9<span class=\"nowrap\"> </span>B5</a>\n",
      "</td>\n",
      "<td>TBA (FL)\n",
      "</td>\n",
      "<td>BlueBird Block 2 #7-10 (4 satellites)\n",
      "</td>\n",
      "<td><a href=\"/wiki/Low_Earth_orbit\" title=\"Low Earth orbit\">LEO</a>\n",
      "</td>\n",
      "<td><a href=\"/wiki/AST_SpaceMobile\" title=\"AST SpaceMobile\">AST SpaceMobile</a>\n",
      "</td></tr>\n",
      "<tr>\n",
      "<td colspan=\"5\">Cellphone-compatible broadband constellation. The next-generation Block 2 BlueBird satellites delivers 10x the bandwidth of BlueBird Block 1 satellites, allowing continuous cellular broadband service coverage. They will feature a ~2,400 sq ft (220 m<sup>2</sup>) communications array, the largest ever developed commercially.<sup class=\"reference\" id=\"cite_ref-Rainbow_463-0\"><a href=\"#cite_note-Rainbow-463\"><span class=\"cite-bracket\">[</span>451<span class=\"cite-bracket\">]</span></a></sup>\n",
      "</td></tr>\n",
      "<tr>\n",
      "<td rowspan=\"2\">~2025<sup class=\"reference\" id=\"cite_ref-464\"><a href=\"#cite_note-464\"><span class=\"cite-bracket\">[</span>452<span class=\"cite-bracket\">]</span></a></sup>\n",
      "</td>\n",
      "<td><a href=\"/wiki/Falcon_9_Block_5\" title=\"Falcon 9 Block 5\">F9<span class=\"nowrap\"> </span>B5</a>\n",
      "</td>\n",
      "<td>TBA (FL)\n",
      "</td>\n",
      "<td>BlueBird Block 2 #11-14 (4 satellites)\n",
      "</td>\n",
      "<td><a href=\"/wiki/Low_Earth_orbit\" title=\"Low Earth orbit\">LEO</a>\n",
      "</td>\n",
      "<td><a href=\"/wiki/AST_SpaceMobile\" title=\"AST SpaceMobile\">AST SpaceMobile</a>\n",
      "</td></tr>\n",
      "<tr>\n",
      "<td colspan=\"5\">Cellphone-compatible broadband constellation. The next-generation Block 2 BlueBird satellites delivers 10x the bandwidth of BlueBird Block 1 satellites, allowing continuous cellular broadband service coverage. They will feature a ~2,400 sq ft (220 m<sup>2</sup>) communications array, the largest ever developed commercially.<sup class=\"reference\" id=\"cite_ref-Rainbow_463-1\"><a href=\"#cite_note-Rainbow-463\"><span class=\"cite-bracket\">[</span>451<span class=\"cite-bracket\">]</span></a></sup>\n",
      "</td></tr></tbody></table>\n"
     ]
    }
   ],
   "source": [
    "# Let's print the third table and check its content\n",
    "first_launch_table = html_tables[2]\n",
    "print(first_launch_table)"
   ]
  },
  {
   "cell_type": "markdown",
   "metadata": {},
   "source": [
    "You should able to see the columns names embedded in the table header elements `<th>` as follows:\n"
   ]
  },
  {
   "cell_type": "markdown",
   "metadata": {},
   "source": [
    "```\n",
    "<tr>\n",
    "<th scope=\"col\">Flight No.\n",
    "</th>\n",
    "<th scope=\"col\">Date and<br/>time (<a href=\"/wiki/Coordinated_Universal_Time\" title=\"Coordinated Universal Time\">UTC</a>)\n",
    "</th>\n",
    "<th scope=\"col\"><a href=\"/wiki/List_of_Falcon_9_first-stage_boosters\" title=\"List of Falcon 9 first-stage boosters\">Version,<br/>Booster</a> <sup class=\"reference\" id=\"cite_ref-booster_11-0\"><a href=\"#cite_note-booster-11\">[b]</a></sup>\n",
    "</th>\n",
    "<th scope=\"col\">Launch site\n",
    "</th>\n",
    "<th scope=\"col\">Payload<sup class=\"reference\" id=\"cite_ref-Dragon_12-0\"><a href=\"#cite_note-Dragon-12\">[c]</a></sup>\n",
    "</th>\n",
    "<th scope=\"col\">Payload mass\n",
    "</th>\n",
    "<th scope=\"col\">Orbit\n",
    "</th>\n",
    "<th scope=\"col\">Customer\n",
    "</th>\n",
    "<th scope=\"col\">Launch<br/>outcome\n",
    "</th>\n",
    "<th scope=\"col\"><a href=\"/wiki/Falcon_9_first-stage_landing_tests\" title=\"Falcon 9 first-stage landing tests\">Booster<br/>landing</a>\n",
    "</th></tr>\n",
    "```\n"
   ]
  },
  {
   "cell_type": "markdown",
   "metadata": {},
   "source": [
    "Next, we just need to iterate through the `<th>` elements and apply the provided `extract_column_from_header()` to extract column name one by one\n"
   ]
  },
  {
   "cell_type": "code",
   "execution_count": 10,
   "metadata": {
    "tags": []
   },
   "outputs": [
    {
     "data": {
      "text/plain": [
       "['Date and time ( )', 'Launch site', 'Payload', 'Orbit', 'Customer']"
      ]
     },
     "execution_count": 10,
     "metadata": {},
     "output_type": "execute_result"
    }
   ],
   "source": [
    "column_names = []\n",
    "\n",
    "# Apply find_all() function with `th` element on first_launch_table\n",
    "# Iterate each th element and apply the provided extract_column_from_header() to get a column name\n",
    "# Append the Non-empty column name (`if name is not None and len(name) > 0`) into a list called column_names\n",
    "column_names = []\n",
    "table_headers = first_launch_table.find_all('th')\n",
    "for th in table_headers:\n",
    "    name = extract_column_from_header(th)\n",
    "    \n",
    "    # Append the non-empty column name (if name is not None and len(name) > 0)\n",
    "    if name is not None and len(name) > 0:\n",
    "        column_names.append(name)\n",
    "        \n",
    "column_names\n"
   ]
  },
  {
   "cell_type": "markdown",
   "metadata": {},
   "source": [
    "Check the extracted column names\n"
   ]
  },
  {
   "cell_type": "code",
   "execution_count": 11,
   "metadata": {
    "tags": []
   },
   "outputs": [
    {
     "name": "stdout",
     "output_type": "stream",
     "text": [
      "['Date and time ( )', 'Launch site', 'Payload', 'Orbit', 'Customer']\n"
     ]
    }
   ],
   "source": [
    "print(column_names)"
   ]
  },
  {
   "cell_type": "markdown",
   "metadata": {},
   "source": [
    "## TASK 3: Create a data frame by parsing the launch HTML tables\n"
   ]
  },
  {
   "cell_type": "markdown",
   "metadata": {},
   "source": [
    "We will create an empty dictionary with keys from the extracted column names in the previous task. Later, this dictionary will be converted into a Pandas dataframe\n"
   ]
  },
  {
   "cell_type": "code",
   "execution_count": 12,
   "metadata": {
    "tags": []
   },
   "outputs": [],
   "source": [
    "launch_dict= dict.fromkeys(column_names)\n",
    "\n",
    "# Remove an irrelvant column\n",
    "del launch_dict['Date and time ( )']\n",
    "\n",
    "# Let's initial the launch_dict with each value to be an empty list\n",
    "launch_dict['Flight No.'] = []\n",
    "launch_dict['Launch site'] = []\n",
    "launch_dict['Payload'] = []\n",
    "launch_dict['Payload mass'] = []\n",
    "launch_dict['Orbit'] = []\n",
    "launch_dict['Customer'] = []\n",
    "launch_dict['Launch outcome'] = []\n",
    "# Added some new columns\n",
    "launch_dict['Version Booster']=[]\n",
    "launch_dict['Booster landing']=[]\n",
    "launch_dict['Date']=[]\n",
    "launch_dict['Time']=[]"
   ]
  },
  {
   "cell_type": "markdown",
   "metadata": {},
   "source": [
    "Next, we just need to fill up the `launch_dict` with launch records extracted from table rows.\n"
   ]
  },
  {
   "cell_type": "markdown",
   "metadata": {},
   "source": [
    "Usually, HTML tables in Wiki pages are likely to contain unexpected annotations and other types of noises, such as reference links `B0004.1[8]`, missing values `N/A [e]`, inconsistent formatting, etc.\n"
   ]
  },
  {
   "cell_type": "markdown",
   "metadata": {},
   "source": [
    "To simplify the parsing process, we have provided an incomplete code snippet below to help you to fill up the `launch_dict`. Please complete the following code snippet with TODOs or you can choose to write your own logic to parse all launch tables:\n"
   ]
  },
  {
   "cell_type": "code",
   "execution_count": 15,
   "metadata": {
    "tags": []
   },
   "outputs": [],
   "source": [
    "extracted_row = 0\n",
    "\n",
    "# Extract each table\n",
    "for table_number, table in enumerate(soup.find_all('table', 'wikitable plainrowheaders collapsible')):\n",
    "    for rows in table.find_all(\"tr\"):\n",
    "        # Check to see if first table heading is a number corresponding to a launch number\n",
    "        if rows.th:\n",
    "            if rows.th.string:\n",
    "                flight_number = rows.th.string.strip()\n",
    "                flag = flight_number.isdigit()\n",
    "            else:\n",
    "                flag = False\n",
    "        else:\n",
    "            flag = False\n",
    "\n",
    "        # Get table element\n",
    "        row = rows.find_all('td')\n",
    "\n",
    "        # If it is a numbered row, save cells in dictionary\n",
    "        if flag:\n",
    "            extracted_row += 1\n",
    "\n",
    "            # --- Flight Number ---\n",
    "            launch_dict['Flight No.'].append(flight_number)\n",
    "\n",
    "            # --- Date and Time ---\n",
    "            datetimelist = date_time(row[0])\n",
    "            date = datetimelist[0].strip('.')\n",
    "            time = datetimelist[1]\n",
    "            launch_dict['Date'].append(date)\n",
    "            launch_dict['Time'].append(time)\n",
    "\n",
    "            # --- Booster Version ---\n",
    "            bv = booster_version(row[1])\n",
    "            if not bv:\n",
    "                bv = row[1].a.string if row[1].a else None\n",
    "            launch_dict['Version Booster'].append(bv)\n",
    "\n",
    "            # --- Launch Site ---\n",
    "            launch_site = row[2].a.string if row[2].a else None\n",
    "            launch_dict['Launch site'].append(launch_site)\n",
    "\n",
    "            # --- Payload ---\n",
    "            payload = row[3].a.string if row[3].a else None\n",
    "            launch_dict['Payload'].append(payload)\n",
    "\n",
    "            # --- Payload Mass ---\n",
    "            payload_mass = get_mass(row[4])\n",
    "            launch_dict['Payload mass'].append(payload_mass)\n",
    "\n",
    "            # --- Orbit ---\n",
    "            orbit = row[5].a.string if row[5].a else None\n",
    "            launch_dict['Orbit'].append(orbit)\n",
    "\n",
    "            # --- Customer ---\n",
    "            customer = row[6].a.string if row[6].a else None\n",
    "            launch_dict['Customer'].append(customer)\n",
    "\n",
    "            # --- Launch Outcome ---\n",
    "            launch_outcome = list(row[7].strings)[0] if row[7].strings else None\n",
    "            launch_dict['Launch outcome'].append(launch_outcome)\n",
    "\n",
    "            # --- Booster Landing ---\n",
    "            booster_landing = landing_status(row[8])\n",
    "            launch_dict['Booster landing'].append(booster_landing)\n"
   ]
  },
  {
   "cell_type": "markdown",
   "metadata": {},
   "source": [
    "After you have fill in the parsed launch record values into `launch_dict`, you can create a dataframe from it.\n"
   ]
  },
  {
   "cell_type": "code",
   "execution_count": 18,
   "metadata": {
    "tags": []
   },
   "outputs": [
    {
     "name": "stderr",
     "output_type": "stream",
     "text": [
      "/home/jupyterlab/conda/envs/python/lib/python3.7/site-packages/ipykernel_launcher.py:1: DeprecationWarning: The default dtype for empty Series will be 'object' instead of 'float64' in a future version. Specify a dtype explicitly to silence this warning.\n",
      "  \"\"\"Entry point for launching an IPython kernel.\n"
     ]
    }
   ],
   "source": [
    "df= pd.DataFrame({ key:pd.Series(value) for key, value in launch_dict.items() })\n",
    "df.to_csv('spacex_web_scraped.csv', index=False)"
   ]
  },
  {
   "cell_type": "markdown",
   "metadata": {},
   "source": [
    "We can now export it to a <b>CSV</b> for the next section, but to make the answers consistent and in case you have difficulties finishing this lab. \n",
    "\n",
    "Following labs will be using a provided dataset to make each lab independent. \n"
   ]
  },
  {
   "cell_type": "markdown",
   "metadata": {},
   "source": [
    "<code>df.to_csv('spacex_web_scraped.csv', index=False)</code>\n"
   ]
  },
  {
   "cell_type": "markdown",
   "metadata": {},
   "source": [
    "## Authors\n"
   ]
  },
  {
   "cell_type": "markdown",
   "metadata": {},
   "source": [
    "<a href=\"https://www.linkedin.com/in/yan-luo-96288783/\">Yan Luo</a>\n"
   ]
  },
  {
   "cell_type": "markdown",
   "metadata": {},
   "source": [
    "<a href=\"https://www.linkedin.com/in/nayefaboutayoun/\">Nayef Abou Tayoun</a>\n"
   ]
  },
  {
   "cell_type": "markdown",
   "metadata": {},
   "source": [
    "<!--\n",
    "## Change Log\n",
    "-->\n"
   ]
  },
  {
   "cell_type": "markdown",
   "metadata": {},
   "source": [
    "<!--\n",
    "| Date (YYYY-MM-DD) | Version | Changed By | Change Description      |\n",
    "| ----------------- | ------- | ---------- | ----------------------- |\n",
    "| 2021-06-09        | 1.0     | Yan Luo    | Tasks updates           |\n",
    "| 2020-11-10        | 1.0     | Nayef      | Created the initial version |\n",
    "-->\n"
   ]
  },
  {
   "cell_type": "markdown",
   "metadata": {},
   "source": [
    "Copyright © 2021 IBM Corporation. All rights reserved.\n"
   ]
  }
 ],
 "metadata": {
  "kernelspec": {
   "display_name": "Python",
   "language": "python",
   "name": "conda-env-python-py"
  },
  "language_info": {
   "codemirror_mode": {
    "name": "ipython",
    "version": 3
   },
   "file_extension": ".py",
   "mimetype": "text/x-python",
   "name": "python",
   "nbconvert_exporter": "python",
   "pygments_lexer": "ipython3",
   "version": "3.7.12"
  },
  "prev_pub_hash": "935d3177ae0c3f2ed2083cb1927c99bbd0b33214dfff8dadb45ee7d62f8f3b99"
 },
 "nbformat": 4,
 "nbformat_minor": 4
}
